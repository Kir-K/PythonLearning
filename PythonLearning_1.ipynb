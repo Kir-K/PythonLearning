{
  "nbformat": 4,
  "nbformat_minor": 0,
  "metadata": {
    "colab": {
      "name": "PythonLearning_1.ipynb",
      "version": "0.3.2",
      "provenance": [],
      "collapsed_sections": [],
      "include_colab_link": true
    },
    "kernelspec": {
      "name": "python3",
      "display_name": "Python 3"
    }
  },
  "cells": [
    {
      "cell_type": "markdown",
      "metadata": {
        "id": "view-in-github",
        "colab_type": "text"
      },
      "source": [
        "<a href=\"https://colab.research.google.com/github/Kir-K/PythonLearning/blob/master/PythonLearning_1.ipynb\" target=\"_parent\"><img src=\"https://colab.research.google.com/assets/colab-badge.svg\" alt=\"Open In Colab\"/></a>"
      ]
    },
    {
      "cell_type": "code",
      "metadata": {
        "id": "ZJIx8HsFM0IC",
        "colab_type": "code",
        "colab": {
          "base_uri": "https://localhost:8080/",
          "height": 34
        },
        "outputId": "54857cf6-1246-4264-c149-382df145c6fd"
      },
      "source": [
        "# Test the syntax on the example of the remainder of the division\n",
        "\n",
        "num = 0\n",
        "\n",
        "if num % 2 == 1:\n",
        "  print(\"Число {} является нечетным\".format(num))\n",
        "elif num == 0:\n",
        "  print(\"Число равно 0\".format(num))\n",
        "else:\n",
        "  print(\"Число {} является четным\".format(num))\n",
        "  \n",
        "    "
      ],
      "execution_count": 14,
      "outputs": [
        {
          "output_type": "stream",
          "text": [
            "Число равно 0\n"
          ],
          "name": "stdout"
        }
      ]
    }
  ]
}